{
 "cells": [
  {
   "cell_type": "markdown",
   "metadata": {},
   "source": [
    "此代码处理 gettext PO 文件。缺陷：对于复数形式的 msgid 无法处理"
   ]
  },
  {
   "cell_type": "code",
   "execution_count": null,
   "metadata": {},
   "outputs": [],
   "source": [
    "f = open(\"../data/zh_CN.po\", encoding=\"utf-8\")\n",
    "content = f.read()\n",
    "f.close()"
   ]
  },
  {
   "cell_type": "code",
   "execution_count": null,
   "metadata": {},
   "outputs": [],
   "source": [
    "content = content.replace(\"\\\"\\n\\\"\", \"\")\n",
    "print(content)"
   ]
  },
  {
   "cell_type": "code",
   "execution_count": null,
   "metadata": {},
   "outputs": [],
   "source": [
    "lines = content.split(\"\\n\")\n",
    "lines = list(filter(lambda x: not(x == \"#\" or x.startswith(\"# \") or x.startswith(\"#~ \")), lines))\n",
    "# print(lines)"
   ]
  },
  {
   "cell_type": "code",
   "execution_count": null,
   "metadata": {},
   "outputs": [],
   "source": [
    "blocks = [[]]\n",
    "for i in lines:\n",
    "    if i == \"\":\n",
    "        blocks.append([])\n",
    "        continue\n",
    "    blocks[-1].append(i)\n",
    "# print(blocks)\n",
    "    "
   ]
  },
  {
   "cell_type": "code",
   "execution_count": null,
   "metadata": {},
   "outputs": [],
   "source": [
    "blocks_with_tag = []\n",
    "for i in blocks:\n",
    "    block_with_tag = dict({ \"references\" : [] })\n",
    "    for j in i:\n",
    "        if j.startswith(\"#: \"):\n",
    "            remaind: str = j[3:]\n",
    "            references = remaind.split(\" \")\n",
    "            block_with_tag[\"references\"].extend(references)\n",
    "        elif j.startswith(\"#, \"):\n",
    "            remaind: str = j[3:]\n",
    "            flags = remaind.split(\",\")\n",
    "            block_with_tag[\"flags\"] = list(map(lambda x:x.strip(), flags))\n",
    "        elif j.startswith(\"msgid \"):\n",
    "            remaind: str = j[6:]\n",
    "            block_with_tag[\"msgid\"] = remaind.strip('\"')\n",
    "        elif j.startswith(\"msgstr \"):\n",
    "            remaind: str = j[7:]\n",
    "            block_with_tag[\"msgstr\"] = remaind.strip('\"')\n",
    "    blocks_with_tag.append(block_with_tag)\n",
    "# print(blocks_with_tag)\n"
   ]
  },
  {
   "cell_type": "code",
   "execution_count": null,
   "metadata": {},
   "outputs": [],
   "source": [
    "# filter the c-family and cp relatives\n",
    "\n",
    "def predicate(block):\n",
    "    if \"references\" not in block:\n",
    "        return False\n",
    "    files = block[\"references\"]\n",
    "    prefixes = [\"c-family/\", \"cp/\", \"tree-ssa-\", \"diagnostic\"]\n",
    "    return any(any(f.startswith(p) for p in prefixes) for f in files)\n",
    "\n",
    "filtered = list(filter(predicate, blocks_with_tag))\n",
    "# print(filtered)"
   ]
  },
  {
   "cell_type": "code",
   "execution_count": null,
   "metadata": {},
   "outputs": [],
   "source": [
    "print(len(filtered))\n",
    "\n",
    "def get_mini(block):\n",
    "    return {\n",
    "        # \"flags\": ', '.join(block.get(\"flags\",[])),\n",
    "        \"references\": ', '.join(block[\"references\"]),\n",
    "        \"msgid\": block[\"msgid\"],\n",
    "        \"msgstr\": block.get(\"msgstr\",\"\")\n",
    "    }\n",
    "\n",
    "mini = list(map(get_mini, filtered))\n",
    "\n",
    "import json\n",
    "\n",
    "with open(\"../data/raw_result.json\", \"w\", encoding=\"utf-8\") as f:\n",
    "    json.dump(mini, f, ensure_ascii=False, indent=2)"
   ]
  }
 ],
 "metadata": {
  "interpreter": {
   "hash": "414636cbf4b89c495ed23dbd7905d0ddb1b48d6d6d24cd69bfca6e1d901afa29"
  },
  "kernelspec": {
   "display_name": "Python 3.9.7 64-bit",
   "language": "python",
   "name": "python3"
  },
  "language_info": {
   "codemirror_mode": {
    "name": "ipython",
    "version": 3
   },
   "file_extension": ".py",
   "mimetype": "text/x-python",
   "name": "python",
   "nbconvert_exporter": "python",
   "pygments_lexer": "ipython3",
   "version": "3.9.7"
  }
 },
 "nbformat": 4,
 "nbformat_minor": 2
}
