{
 "cells": [
  {
   "cell_type": "markdown",
   "metadata": {},
   "source": [
    "此代码处理 gettext PO 文件。缺陷：对于复数形式的 msgid 无法处理"
   ]
  },
  {
   "cell_type": "code",
   "execution_count": null,
   "metadata": {},
   "outputs": [],
   "source": [
    "f = open(\"../data/zh_CN.po\", encoding=\"utf-8\")\r\n",
    "content = f.read()\r\n",
    "f.close()"
   ]
  },
  {
   "cell_type": "code",
   "execution_count": null,
   "metadata": {},
   "outputs": [],
   "source": [
    "content = content.replace(\"\\\"\\n\\\"\", \"\")\r\n",
    "print(content)"
   ]
  },
  {
   "cell_type": "code",
   "execution_count": null,
   "metadata": {},
   "outputs": [],
   "source": [
    "lines = content.split(\"\\n\")\r\n",
    "lines = list(filter(lambda x: not(x == \"#\" or x.startswith(\"# \") or x.startswith(\"#~ \")), lines))\r\n",
    "# print(lines)"
   ]
  },
  {
   "cell_type": "code",
   "execution_count": null,
   "metadata": {},
   "outputs": [],
   "source": [
    "blocks = [[]]\r\n",
    "for i in lines:\r\n",
    "    if i == \"\":\r\n",
    "        blocks.append([])\r\n",
    "        continue\r\n",
    "    blocks[-1].append(i)\r\n",
    "# print(blocks)\r\n",
    "    "
   ]
  },
  {
   "cell_type": "code",
   "execution_count": null,
   "metadata": {},
   "outputs": [],
   "source": [
    "blocks_with_tag = []\r\n",
    "for i in blocks:\r\n",
    "    block_with_tag = dict()\r\n",
    "    for j in i:\r\n",
    "        if j.startswith(\"#: \"):\r\n",
    "            remaind: str = j[3:]\r\n",
    "            references = remaind.split(\" \")\r\n",
    "            block_with_tag[\"references\"] = references\r\n",
    "        elif j.startswith(\"#, \"):\r\n",
    "            remaind: str = j[3:]\r\n",
    "            flags = remaind.split(\",\")\r\n",
    "            block_with_tag[\"flags\"] = list(map(lambda x:x.strip(), flags))\r\n",
    "        elif j.startswith(\"msgid \"):\r\n",
    "            remaind: str = j[6:]\r\n",
    "            block_with_tag[\"msgid\"] = remaind.strip('\"')\r\n",
    "        elif j.startswith(\"msgstr \"):\r\n",
    "            remaind: str = j[7:]\r\n",
    "            block_with_tag[\"msgstr\"] = remaind.strip('\"')\r\n",
    "    blocks_with_tag.append(block_with_tag)\r\n",
    "# print(blocks_with_tag)\r\n"
   ]
  },
  {
   "cell_type": "code",
   "execution_count": null,
   "metadata": {},
   "outputs": [],
   "source": [
    "# filter the c-family and cp relatives\r\n",
    "\r\n",
    "def predicate(block):\r\n",
    "    if \"references\" not in block:\r\n",
    "        return False\r\n",
    "    files = block[\"references\"]\r\n",
    "    prefixes = [\"c-family/\", \"cp/\", \"tree-ssa-\", \"diagnostic\"]\r\n",
    "    return any(any(f.startswith(p) for p in prefixes) for f in files)\r\n",
    "\r\n",
    "filtered = list(filter(predicate, blocks_with_tag))\r\n",
    "# print(filtered)"
   ]
  },
  {
   "cell_type": "code",
   "execution_count": null,
   "metadata": {},
   "outputs": [],
   "source": [
    "print(len(filtered))\r\n",
    "\r\n",
    "def get_mini(block):\r\n",
    "    return {\r\n",
    "        # \"flags\": ', '.join(block.get(\"flags\",[])),\r\n",
    "        \"references\": ', '.join(block.get(\"references\",[])),\r\n",
    "        \"msgid\": block[\"msgid\"],\r\n",
    "        \"msgstr\": block.get(\"msgstr\",\"\")\r\n",
    "    }\r\n",
    "\r\n",
    "mini = list(map(get_mini, filtered))\r\n",
    "\r\n",
    "import json\r\n",
    "\r\n",
    "with open(\"../data/raw_result.json\", \"w\", encoding=\"utf-8\") as f:\r\n",
    "    json.dump(mini, f, ensure_ascii=False, indent=2)"
   ]
  }
 ],
 "metadata": {
  "interpreter": {
   "hash": "ac59ebe37160ed0dfa835113d9b8498d9f09ceb179beaac4002f036b9467c963"
  },
  "kernelspec": {
   "display_name": "Python 3.9.1 64-bit",
   "name": "python3"
  },
  "language_info": {
   "codemirror_mode": {
    "name": "ipython",
    "version": 3
   },
   "file_extension": ".py",
   "mimetype": "text/x-python",
   "name": "python",
   "nbconvert_exporter": "python",
   "pygments_lexer": "ipython3",
   "version": "3.9.1"
  }
 },
 "nbformat": 4,
 "nbformat_minor": 2
}
